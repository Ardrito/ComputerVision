{
 "cells": [
  {
   "cell_type": "code",
   "execution_count": 1,
   "id": "f3678db1",
   "metadata": {},
   "outputs": [],
   "source": [
    "import calibrate as calibrate"
   ]
  },
  {
   "cell_type": "code",
   "execution_count": 4,
   "id": "00fc6a5e",
   "metadata": {},
   "outputs": [
    {
     "name": "stderr",
     "output_type": "stream",
     "text": [
      "Using cache found in /home/ardrit/.cache/torch/hub/ultralytics_yolov5_master\n",
      "/home/ardrit/.cache/torch/hub/ultralytics_yolov5_master/utils/general.py:32: UserWarning: pkg_resources is deprecated as an API. See https://setuptools.pypa.io/en/latest/pkg_resources.html. The pkg_resources package is slated for removal as early as 2025-11-30. Refrain from using this package or pin to Setuptools<81.\n",
      "  import pkg_resources as pkg\n",
      "YOLOv5 🚀 2025-7-8 Python-3.12.3 torch-2.7.1+cu126 CUDA:0 (NVIDIA GeForce RTX 2070 SUPER, 7787MiB)\n",
      "\n",
      "Fusing layers... \n",
      "YOLOv5s summary: 213 layers, 7225885 parameters, 0 gradients, 16.4 GFLOPs\n",
      "Adding AutoShape... \n"
     ]
    }
   ],
   "source": [
    "import torch\n",
    "\n",
    "model = torch.hub.load('ultralytics/yolov5', 'yolov5s', pretrained=True)\n",
    "model.classes = 0"
   ]
  },
  {
   "cell_type": "code",
   "execution_count": 3,
   "id": "0cd80148",
   "metadata": {},
   "outputs": [
    {
     "name": "stdout",
     "output_type": "stream",
     "text": [
      "Error is 0.023953206611145698\n"
     ]
    },
    {
     "data": {
      "text/plain": [
       "0.023953206611145698"
      ]
     },
     "execution_count": 3,
     "metadata": {},
     "output_type": "execute_result"
    }
   ],
   "source": [
    "worldPoints, imgPoints, = calibrate.getCorners(showImages=False)\n",
    "cameraMatrix, dist, rvecs, tvecs = calibrate.getParams(worldPoints, imgPoints, (1280,720))\n",
    "calibrate.removeDistortion(cameraMatrix,dist)\n",
    "calibrate.checkError(worldPoints, imgPoints, rvecs, tvecs, cameraMatrix, dist)"
   ]
  },
  {
   "cell_type": "code",
   "execution_count": 13,
   "id": "4f16eae3",
   "metadata": {},
   "outputs": [
    {
     "name": "stderr",
     "output_type": "stream",
     "text": [
      "/home/ardrit/.cache/torch/hub/ultralytics_yolov5_master/models/common.py:906: FutureWarning: `torch.cuda.amp.autocast(args...)` is deprecated. Please use `torch.amp.autocast('cuda', args...)` instead.\n",
      "  with amp.autocast(autocast):\n"
     ]
    },
    {
     "data": {
      "text/plain": [
       "tensor(451.56342)"
      ]
     },
     "execution_count": 13,
     "metadata": {},
     "output_type": "execute_result"
    }
   ],
   "source": [
    "results = model(\"undistorted.jpeg\")\n",
    "\n",
    "results.xywh[0][0][0].cpu()"
   ]
  },
  {
   "cell_type": "code",
   "execution_count": 14,
   "id": "0287b4dc",
   "metadata": {},
   "outputs": [
    {
     "data": {
      "text/plain": [
       "[      xcenter     ycenter       width      height  confidence  class    name\n",
       " 0  451.563416  295.873688  600.846069  588.711365    0.906466      0  person]"
      ]
     },
     "execution_count": 14,
     "metadata": {},
     "output_type": "execute_result"
    }
   ],
   "source": [
    "results.pandas().xywh"
   ]
  }
 ],
 "metadata": {
  "kernelspec": {
   "display_name": ".venv",
   "language": "python",
   "name": "python3"
  },
  "language_info": {
   "codemirror_mode": {
    "name": "ipython",
    "version": 3
   },
   "file_extension": ".py",
   "mimetype": "text/x-python",
   "name": "python",
   "nbconvert_exporter": "python",
   "pygments_lexer": "ipython3",
   "version": "3.12.3"
  }
 },
 "nbformat": 4,
 "nbformat_minor": 5
}
